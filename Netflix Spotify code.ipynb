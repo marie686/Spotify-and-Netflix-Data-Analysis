{
 "cells": [
  {
   "cell_type": "code",
   "execution_count": 50,
   "id": "93ea4ea4-78bc-4ba0-ab08-657e9117228c",
   "metadata": {
    "tags": []
   },
   "outputs": [],
   "source": [
    "from sklearn.model_selection import train_test_split\n",
    "from sklearn.metrics import r2_score\n",
    "from sklearn.metrics import mean_squared_error\n",
    "from sklearn.linear_model import Lasso\n",
    "from sklearn.linear_model import Ridge\n",
    "import numpy as np\n",
    "import pandas as pd\n",
    "import statsmodels.api as sm\n",
    "from sklearn import metrics\n",
    "import matplotlib.pyplot as plt\n",
    "from sklearn.linear_model import LinearRegression\n",
    "from sklearn.preprocessing import StandardScaler\n",
    "from sklearn.linear_model import LassoCV\n",
    "from sklearn.linear_model import RidgeCV\n",
    "from sklearn.linear_model import LogisticRegression\n",
    "from sklearn.model_selection import cross_val_score\n",
    "import autograd.numpy as numpy\n",
    "import autograd.numpy.random as npr\n",
    "from sklearn.metrics import accuracy_score, classification_report\n",
    "from autograd import elementwise_grad\n",
    "from scipy.optimize import minimize\n",
    "from tqdm import tqdm \n",
    "from sklearn.metrics import precision_score, recall_score, f1_score\n",
    "from sklearn.utils import shuffle\n",
    "from sklearn.utils import resample\n",
    "from sklearn.metrics import roc_curve, roc_auc_score\n",
    "from sklearn.metrics import confusion_matrix\n",
    "import seaborn as sns\n",
    "from sklearn.svm import LinearSVC\n",
    "from sklearn.metrics import roc_curve, auc\n",
    "from sklearn.svm import SVC\n",
    "from sklearn.decomposition import PCA\n",
    "from sklearn.model_selection import KFold, cross_val_score\n",
    "from sklearn import model_selection\n",
    "from sklearn import tree\n",
    "from sklearn.ensemble import BaggingClassifier\n",
    "from sklearn.ensemble import RandomForestClassifier\n",
    "from sklearn.ensemble import AdaBoostClassifier\n",
    "from sklearn.model_selection import GridSearchCV\n",
    "from sklearn.preprocessing import OneHotEncoder\n",
    "from sklearn.utils import shuffle\n",
    "from sklearn.compose import ColumnTransformer\n",
    "from sklearn.preprocessing import LabelEncoder"
   ]
  },
  {
   "cell_type": "code",
   "execution_count": null,
   "id": "6307b755-ea6c-46d6-85d2-db10fda23781",
   "metadata": {
    "tags": []
   },
   "outputs": [],
   "source": [
    "movies = pd.read_csv('/Users/marieqi/Downloads/movieTitles.csv', header= None)\n",
    "ratings = {}\n",
    "index = None\n",
    "with open('/Users/marieqi/Downloads/data.txt', 'r') as file:\n",
    "    for line in file:\n",
    "        if ':' in line:\n",
    "            index = int(line.strip().split(':')[0])-1\n",
    "            movie_title=movies.iloc[index, 2]\n",
    "        else:\n",
    "            user_id, rating, date = line.split(',')\n",
    "            if user_id in ratings:\n",
    "                ratings[user_id].append((movie_title, rating, date))\n",
    "            else:\n",
    "                ratings[user_id] = [(movie_title, rating, date)]\n",
    "rows = []\n",
    "for user_id, ratings_list in ratings.items():\n",
    "    for rating_tuple in ratings_list:\n",
    "        rows.append([user_id] + list(rating_tuple))\n",
    "        \n",
    "columns = ['user_id', 'movie_title', 'rating', 'date']\n",
    "\n",
    "df = pd.DataFrame(rows, columns=columns)\n"
   ]
  },
  {
   "cell_type": "code",
   "execution_count": null,
   "id": "f4ca34a8-6a5b-499b-8d82-638caefa6731",
   "metadata": {
    "tags": []
   },
   "outputs": [],
   "source": [
    "print(df.groupby('user_id')"
   ]
  },
  {
   "cell_type": "code",
   "execution_count": 77,
   "id": "03cf0b43-6a89-46c1-823e-f3152a722673",
   "metadata": {
    "tags": []
   },
   "outputs": [],
   "source": [
    "df['rating'] = df['rating'].astype(int)\n",
    "label_encoder = LabelEncoder()\n",
    "df['movie_title_encoded'] = label_encoder.fit_transform(df['movie_title'])\n",
    "df.drop(columns=['movie_title'], inplace=True)\n",
    "df.rename(columns={'movie_title_encoded': 'movie_title'}, inplace=True)\n",
    "y_train = df.groupby('movie_title').apply(lambda x: x.sample(n=1, random_state=17394390))\n",
    "df = df.drop(index=y_train.index.get_level_values(1))\n",
    "y_train = y_train.drop(['user_id','date', 'movie_title'], axis=1)\n",
    "X_test = df.groupby('movie_title').apply(lambda x: x.sample(n=1, random_state=17394390))\n",
    "df = df.drop(index=X_test.index.get_level_values(1))\n",
    "y_test = X_test['rating']\n",
    "y_test = y_test\n",
    "\n",
    "\n",
    "\n",
    "\n"
   ]
  },
  {
   "cell_type": "code",
   "execution_count": 80,
   "id": "209156b1-6793-4217-8e7f-9452d74f4d70",
   "metadata": {
    "tags": []
   },
   "outputs": [],
   "source": [
    "X_t = df.groupby('movie_title').apply(lambda x: x.sample(n=1, random_state=17394390))\n",
    "df = df.drop(index=X_t.index.get_level_values(1))\n",
    "X_test =X_t['rating']"
   ]
  },
  {
   "cell_type": "code",
   "execution_count": 81,
   "id": "7ab1f494-a106-4d17-989a-5ee581449e69",
   "metadata": {
    "tags": []
   },
   "outputs": [
    {
     "name": "stdout",
     "output_type": "stream",
     "text": [
      "<class 'numpy.ndarray'>\n"
     ]
    }
   ],
   "source": [
    "grouped = df.groupby('movie_title')\n",
    "average = int(np.floor(df.size/4965))\n",
    "\n",
    "def pad(group, size):\n",
    "    ratings = group['rating'].values\n",
    "    avg_rating = ratings.mean()\n",
    "    if len(ratings) < size:\n",
    "        return np.pad(ratings, (0, size - len(ratings)), 'constant', constant_values=avg_rating)\n",
    "    else:\n",
    "        return ratings[:size]\n",
    "padded_groups = []\n",
    "for movie, group in grouped:\n",
    "    padded_ratings = pad(group, average)\n",
    "    padded_groups.append(padded_ratings)\n",
    "ratings_matrix = np.array(padded_groups)\n"
   ]
  },
  {
   "cell_type": "code",
   "execution_count": 82,
   "id": "54296970-6b73-4776-ba34-52078234d4c0",
   "metadata": {
    "tags": []
   },
   "outputs": [
    {
     "name": "stdout",
     "output_type": "stream",
     "text": [
      "<class 'numpy.ndarray'>\n"
     ]
    }
   ],
   "source": [
    "\n"
   ]
  },
  {
   "cell_type": "code",
   "execution_count": 84,
   "id": "dea9e0ca-ca2e-48c0-8c03-004537637c87",
   "metadata": {
    "tags": []
   },
   "outputs": [
    {
     "name": "stdout",
     "output_type": "stream",
     "text": [
      "[3 4 3 ... 3 1 1]\n"
     ]
    }
   ],
   "source": [
    "X_train= ratings_matrix\n",
    "y_train = np.asarray(y_train)\n",
    "X_test = np.asarray(X_test)\n",
    "y_test = np.asarray(y_test)\n",
    "\n",
    "y_train = np.asarray(y_train).flatten()\n",
    "y_test = np.asarray(y_test).flatten()\n",
    "y_train = y_train.astype(int)\n",
    "y_test = y_test.astype(int)\n",
    "\n"
   ]
  },
  {
   "cell_type": "code",
   "execution_count": 87,
   "id": "074d315a-6eb4-45da-8bef-a30049d35149",
   "metadata": {},
   "outputs": [
    {
     "name": "stdout",
     "output_type": "stream",
     "text": [
      "1.3572665955560554\n"
     ]
    }
   ],
   "source": [
    "model = sm.OLS(y_train, X_train).fit()\n",
    "predictions = model.predict(X_train)\n",
    "mse = mean_squared_error(y_test, predictions)\n",
    "print(np.sqrt(mse))\n"
   ]
  },
  {
   "cell_type": "code",
   "execution_count": 118,
   "id": "a204edda-98b5-46ec-9afb-db3d097e15d4",
   "metadata": {
    "tags": []
   },
   "outputs": [
    {
     "name": "stdout",
     "output_type": "stream",
     "text": [
      "[1 4 3 ... 3 4 3]\n"
     ]
    }
   ],
   "source": []
  },
  {
   "cell_type": "code",
   "execution_count": 117,
   "id": "a37ae8c2-c21e-4713-87b0-1193ab6cace2",
   "metadata": {
    "tags": []
   },
   "outputs": [
    {
     "data": {
      "image/png": "[encoded data removed]",
      "text/plain": [
       "<Figure size 640x480 with 1 Axes>"
      ]
     },
     "metadata": {},
     "output_type": "display_data"
    },
    {
     "data": {
      "image/png": "[encoded data removed]",
      "text/plain": [
       "<Figure size 640x480 with 1 Axes>"
      ]
     },
     "metadata": {},
     "output_type": "display_data"
    },
    {
     "data": {
      "image/png": "[encoded data removed]",
      "text/plain": [
       "<Figure size 640x480 with 1 Axes>"
      ]
     },
     "metadata": {},
     "output_type": "display_data"
    }
   ],
   "source": [
    "x_values = np.linspace(min(y_test), max(y_test), 100)\n",
    "y_values = model.params[1] * x_values + model.params[0]\n",
    "fig = plt.figure()\n",
    "plt.hist(y_test, color='blue')\n",
    "plt.xlabel('Ratings')\n",
    "plt.ylabel('Frequency')\n",
    "plt.title('Actual Ratings frequency')\n",
    "plt.show()\n",
    "fig.savefig('/Users/marieqi/Downloads/actual.png')\n",
    "\n",
    "fig = plt.figure()\n",
    "plt.hist(predictions, color='blue')\n",
    "plt.xlabel('Predicted Ratings')\n",
    "plt.ylabel('Frequency')\n",
    "plt.title('Predicted Ratings frequency')\n",
    "plt.show()\n",
    "fig.savefig('/Users/marieqi/Downloads/pred.png')\n",
    "\n",
    "\n",
    "\n",
    "residuals = y_test - predictions\n",
    "fig = plt.figure()\n",
    "plt.scatter(predictions, residuals, color='green')\n",
    "plt.xlabel('Predicted Ratings')\n",
    "plt.ylabel('Residuals')\n",
    "plt.title('Residuals Plot')\n",
    "plt.axhline(y=0, color='red', linestyle='--')\n",
    "plt.show()\n",
    "fig.savefig('/Users/marieqi/Downloads/resid.png')"
   ]
  },
  {
   "cell_type": "code",
   "execution_count": null,
   "id": "810dca83-4080-41d0-89e0-6e246b9da63a",
   "metadata": {
    "tags": []
   },
   "outputs": [],
   "source": [
    "import pandas as pd\n",
    "from sklearn.cluster import KMeans\n",
    "import matplotlib.pyplot as plt\n",
    "import numpy as np\n",
    "from sklearn.decomposition import PCA\n",
    "from sklearn.preprocessing import StandardScaler\n",
    "import statsmodels.api as sm\n",
    "import seaborn as sns\n",
    "from sklearn.preprocessing import LabelEncoder\n",
    "import statsmodels.api as sm\n",
    "from sklearn.metrics import silhouette_score\n",
    "from sklearn.decomposition import PCA \n",
    "from sklearn.manifold import TSNE\n",
    "from sklearn.metrics import pairwise_distances\n",
    "from sklearn.manifold import MDS\n",
    "from sklearn.cluster import DBSCAN\n",
    "from sklearn.metrics import pairwise_distances"
   ]
  },
  {
   "cell_type": "code",
   "execution_count": null,
   "id": "2840ff96-9503-48a1-9ff7-37f13e1f3966",
   "metadata": {
    "tags": []
   },
   "outputs": [],
   "source": [
    "def millitominutes(milli):\n",
    "    return(milli/60000)\n",
    "file=\"/Users/marieqi/Downloads/musicData.csv\"\n",
    "data = pd.read_csv(file)\n",
    "data.replace('?', np.nan, inplace=True)\n",
    "df = data.dropna()\n",
    "label_encoder = LabelEncoder()\n",
    "df['mode_binary'] = df['mode'].map({'Major': 1, 'Minor': 0})\n",
    "df.drop(columns = ['mode'], inplace=True)\n",
    "df['key'] = label_encoder.fit_transform(df['key'])\n",
    "df['music_genre'] = label_encoder.fit_transform(df['music_genre'])\n",
    "df['duration_ms'] = df['duration_ms'].apply(millitominutes)\n",
    "scaler = StandardScaler()\n",
    "pca = PCA()\n",
    "df = df.drop(df.columns[:3], axis=1)\n",
    "df = df.drop(['obtained_date'], axis=1)\n",
    "continuous_cols = ['popularity', 'acousticness', 'danceability', 'duration_ms', 'energy', \n",
    "                   'instrumentalness', 'liveness', 'loudness', 'speechiness', 'tempo', 'valence']\n",
    "binary_dummy_cols = [col for col in df.columns if col not in continuous_cols]\n",
    "scaler = StandardScaler()\n",
    "X_continuous_scaled = scaler.fit_transform(df[continuous_cols])\n",
    "X_scaled = np.concatenate((X_continuous_scaled, df[binary_dummy_cols].values), axis=1)\n",
    "Xpca = pca.fit_transform(X_scaled)\n",
    "df_pca = pd.DataFrame(data=Xpca[:,:3], columns=['PC1', 'PC2','PC3'])\n",
    "ratio=pca.explained_variance_ratio_\n",
    "cluster_range = range(2, 10)\n",
    "silhouette_scores = []\n",
    "kmeans=KMeans(n_clusters=2)\n",
    "kmeans.fit(df_pca)\n",
    "df_pca[\"Cluster\"]=kmeans.labels_\n",
    "cumvar=np.cumsum(ratio)\n",
    "fig = plt.figure()\n",
    "ax = fig.add_subplot(111, projection='3d')\n",
    "scatter=ax.scatter(df_pca['PC1'], df_pca['PC2'], df_pca['PC3'],c=df_pca['Cluster'], cmap='viridis')\n",
    "ax.set_xlabel('PC1')\n",
    "ax.set_ylabel('PC2')\n",
    "ax.set_zlabel('PC3')\n",
    "plt.colorbar(scatter, ax=ax, label='Cluster')\n",
    "plt.show()\n",
    "fig.savefig('/Users/marieqi/Downloads/pca.png')\n",
    "components_table = pd.DataFrame({\n",
    "    'Principal Component': range(1, pca.n_components_ + 1),\n",
    "    'Explained Variance Ratio': ratio,\n",
    "    'Cumulative Explained Variance Ratio': np.cumsum(pca.explained_variance_ratio_)\n",
    "})\n",
    "fig = plt.figure(figsize=(10, 6))\n",
    "plt.plot(range(1, len(cumvar) + 1), cumvar, marker='o', linestyle='--')\n",
    "plt.title('Cumulative Explained Variance')\n",
    "plt.xlabel('Number of Principal Components vs Cumulative Explained Variance')\n",
    "plt.ylabel('Cumulative Explained Variance')\n",
    "plt.grid(True)\n",
    "plt.show()\n",
    "fig.savefig('/Users/marieqi/Downloads/cumul.png')\n",
    "eigenvalues=pca.explained_variance_\n",
    "retained_components=np.sum(eigenvalues >1)\n",
    "print(\"Number of retained components:\", retained_components)"
   ]
  },
  {
   "cell_type": "code",
   "execution_count": 116,
   "id": "aef828d9-4f23-4a48-be16-d963a8dd27d7",
   "metadata": {
    "tags": []
   },
   "outputs": [
    {
     "data": {
      "image/png": "[encoded data removed]",
      "text/plain": [
       "<Figure size 640x480 with 1 Axes>"
      ]
     },
     "metadata": {},
     "output_type": "display_data"
    }
   ],
   "source": [
    "df_pca = pd.DataFrame(data=Xpca[:,:5], columns=['PC1', 'PC2','PC3', 'PC4', 'PC5'])\n",
    "cluster_range=range(2, 10)\n",
    "silhouette_scores=[]\n",
    "kmeans=KMeans(n_clusters=2)\n",
    "kmeans.fit(df_pca)\n",
    "for n_clusters in cluster_range:\n",
    "    kmeans=KMeans(n_clusters=n_clusters, random_state=17394390)\n",
    "    kmeans.fit(df_pca)\n",
    "    labels=kmeans.labels_\n",
    "    silhouette_avg=silhouette_score(df_pca, labels)\n",
    "    silhouette_scores.append(silhouette_avg)\n",
    "fig = plt.figure()\n",
    "plt.plot(cluster_range, silhouette_scores, marker='o')\n",
    "plt.xlabel('Number of Clusters')\n",
    "plt.ylabel('Silhouette Score')\n",
    "plt.title('Silhouette Score vs. Number of Clusters')\n",
    "plt.show()\n",
    "fig.savefig('/Users/marieqi/Downloads/sil.png')"
   ]
  },
  {
   "cell_type": "code",
   "execution_count": null,
   "id": "e099f75a-6c72-48ef-b1b6-d6247c3afdf9",
   "metadata": {},
   "outputs": [],
   "source": []
  },
  {
   "cell_type": "code",
   "execution_count": null,
   "id": "90aae7b3-dab9-4571-bf43-b4bcec856cb3",
   "metadata": {},
   "outputs": [],
   "source": [
    "import pandas as pd\n",
    "from sklearn.cluster import KMeans\n",
    "import matplotlib.pyplot as plt\n",
    "import numpy as np\n",
    "from sklearn.decomposition import PCA\n",
    "from sklearn.preprocessing import StandardScaler\n",
    "import statsmodels.api as sm\n",
    "import seaborn as sns\n",
    "from sklearn.preprocessing import LabelEncoder\n",
    "import statsmodels.api as sm\n",
    "from sklearn.metrics import silhouette_score\n",
    "from sklearn.decomposition import PCA \n",
    "from sklearn.manifold import TSNE\n",
    "from sklearn.metrics import pairwise_distances\n",
    "from sklearn.manifold import MDS\n",
    "from sklearn.cluster import DBSCAN\n",
    "from sklearn.metrics import pairwise_distances"
   ]
  },
  {
   "cell_type": "code",
   "execution_count": null,
   "id": "5307d0fa-61b7-4fc9-9ec1-db6e3705de68",
   "metadata": {},
   "outputs": [],
   "source": [
    "file=\"/Users/marieqi/Downloads/musicData.csv\"\n",
    "data = pd.read_csv(file)\n",
    "data.replace('?', np.nan, inplace=True)\n",
    "df = data.dropna()\n",
    "label_encoder = LabelEncoder()\n",
    "df['mode_binary'] = df['mode'].map({'Major': 1, 'Minor': 0})\n",
    "df.drop(columns = ['mode'], inplace=True)\n",
    "df['key'] = label_encoder.fit_transform(df['key'])\n",
    "df['music_genre'] = label_encoder.fit_transform(df['music_genre'])\n",
    "scaler = StandardScaler()\n",
    "pca = PCA()\n",
    "df = df.drop(df.columns[:3], axis=1)\n",
    "df = df.drop(['obtained_date'], axis=1)\n",
    "dataframe = df\n",
    "continuous_cols = ['popularity', 'acousticness', 'danceability', 'duration_ms', 'energy', \n",
    "                   'instrumentalness', 'liveness', 'loudness', 'speechiness', 'tempo', 'valence']\n",
    "binary_dummy_cols = [col for col in df.columns if col not in continuous_cols]\n",
    "scaler = StandardScaler()\n",
    "X_continuous_scaled = scaler.fit_transform(df[continuous_cols])\n",
    "X_scaled = np.concatenate((X_continuous_scaled, df[binary_dummy_cols].values), axis=1)\n",
    "Xpca = pca.fit_transform(X_scaled)\n",
    "df_pca = pd.DataFrame(data=Xpca[:,:3], columns=['PC1', 'PC2','PC3'])\n",
    "ratio=pca.explained_variance_ratio_\n",
    "cluster_range = range(2, 10)\n",
    "silhouette_scores = []\n",
    "kmeans=KMeans(n_clusters=2)\n",
    "kmeans.fit(df_pca)\n",
    "df_pca[\"Cluster\"]=kmeans.labels_\n",
    "cumvar=np.cumsum(ratio)\n",
    "fig = plt.figure()\n",
    "ax = fig.add_subplot(111, projection='3d')\n",
    "scatter=ax.scatter(df_pca['PC1'], df_pca['PC2'], df_pca['PC3'],c=df_pca['Cluster'], cmap='viridis')\n",
    "ax.set_xlabel('PC1')\n",
    "ax.set_ylabel('PC2')\n",
    "ax.set_zlabel('PC3')\n",
    "plt.colorbar(scatter, ax=ax, label='Cluster')\n",
    "plt.show()\n",
    "fig.savefig('/Users/marieqi/Downloads/pca.png')\n",
    "components_table = pd.DataFrame({\n",
    "    'Principal Component': range(1, pca.n_components_ + 1),\n",
    "    'Explained Variance Ratio': ratio,\n",
    "    'Cumulative Explained Variance Ratio': np.cumsum(pca.explained_variance_ratio_)\n",
    "})\n",
    "fig = plt.figure(figsize=(10, 6))\n",
    "plt.plot(range(1, len(cumvar) + 1), cumvar, marker='o', linestyle='--')\n",
    "plt.title('Cumulative Explained Variance')\n",
    "plt.xlabel('Number of Principal Components vs Cumulative Explained Variance')\n",
    "plt.ylabel('Cumulative Explained Variance')\n",
    "plt.grid(True)\n",
    "plt.show()\n",
    "fig.savefig('/Users/marieqi/Downloads/cumul.png')\n",
    "eigenvalues=pca.explained_variance_\n",
    "retained_components=np.sum(eigenvalues >1)\n",
    "print(\"Number of retained components:\", retained_components)"
   ]
  },
  {
   "cell_type": "code",
   "execution_count": null,
   "id": "2f56ed0c-614f-4cf4-97d5-e7fe9a076c22",
   "metadata": {},
   "outputs": [],
   "source": [
    "df_pca = pd.DataFrame(data=Xpca[:,:5], columns=['PC1', 'PC2','PC3', 'PC4', 'PC5'])\n",
    "cluster_range=range(2, 10)\n",
    "silhouette_scores=[]\n",
    "kmeans=KMeans(n_clusters=2)\n",
    "kmeans.fit(df_pca)\n",
    "for n_clusters in cluster_range:\n",
    "    kmeans=KMeans(n_clusters=n_clusters, random_state=17394390)\n",
    "    kmeans.fit(df_pca)\n",
    "    labels=kmeans.labels_\n",
    "    silhouette_avg=silhouette_score(df_pca, labels)\n",
    "    silhouette_scores.append(silhouette_avg)\n",
    "fig = plt.figure()\n",
    "plt.plot(cluster_range, silhouette_scores, marker='o')\n",
    "plt.xlabel('Number of Clusters')\n",
    "plt.ylabel('Silhouette Score')\n",
    "plt.title('Silhouette Score vs. Number of Clusters')\n",
    "plt.show()\n",
    "fig.savefig('/Users/marieqi/Downloads/sil.png')"
   ]
  },
  {
   "cell_type": "code",
   "execution_count": null,
   "id": "4bb17a4a-03e4-4b05-9ca3-e1203e297bd9",
   "metadata": {},
   "outputs": [],
   "source": [
    "y_test = dataframe.groupby('music_genre').apply(lambda x: x.sample(n=500, random_state=17394390))\n",
    "X = dataframe.drop(index=y_test.index.get_level_values(1))\n",
    "y_train = X['music_genre']\n",
    "X = X.drop(['music_genre'], axis=1) \n",
    "\n",
    "pca = PCA(n_components=5)\n",
    "X_train = pca.fit_transform(X)\n",
    "X_test = pca.transform(y_test.drop(['music_genre'], axis=1))\n",
    "y_test = y_test['music_genre']\n",
    "\n",
    "X_train = pd.DataFrame(data=X_train, columns=['PC1', 'PC2', 'PC3', 'PC4', 'PC5'])\n",
    "X_test = pd.DataFrame(data=X_test, columns=['PC1', 'PC2', 'PC3', 'PC4', 'PC5'])"
   ]
  },
  {
   "cell_type": "code",
   "execution_count": null,
   "id": "06ab4ef7-620e-4452-8482-999f5dbe18e9",
   "metadata": {},
   "outputs": [],
   "source": [
    "import numpy as np\n",
    "import pandas as pd\n",
    "import statsmodels.api as sm\n",
    "from sklearn import metrics\n",
    "import matplotlib.pyplot as plt\n",
    "from sklearn.metrics import accuracy_score, classification_report\n",
    "from sklearn.metrics import precision_score, recall_score, f1_score\n",
    "from sklearn.metrics import roc_curve, roc_auc_score\n",
    "from sklearn.metrics import confusion_matrix\n",
    "import seaborn as sns\n",
    "from sklearn.svm import LinearSVC\n",
    "from sklearn.metrics import roc_curve, auc\n",
    "from sklearn.preprocessing import StandardScaler\n",
    "from sklearn.model_selection import train_test_split\n",
    "from sklearn.metrics import r2_score\n",
    "from sklearn.metrics import mean_squared_error\n",
    "from sklearn.model_selection import GridSearchCV\n",
    "from sklearn.metrics import make_scorer\n",
    "from sklearn.metrics import roc_auc_score\n",
    "from sklearn.linear_model import Perceptron\n",
    "from sklearn.utils import shuffle\n",
    "from sklearn.utils import resample\n",
    "import torch\n",
    "import torch.nn as nn\n",
    "import torch.nn.functional as F\n",
    "import torch.optim as optim\n",
    "from torchvision import datasets, transforms\n",
    "import matplotlib.pyplot as plt\n",
    "import numpy\n",
    "from torch.utils.data import DataLoader, Dataset\n",
    "import torch.nn as nn\n",
    "import torch.optim as optim\n",
    "from torch.utils.data import DataLoader, TensorDataset\n",
    "from sklearn.preprocessing import label_binarize"
   ]
  },
  {
   "cell_type": "code",
   "execution_count": null,
   "id": "3e0d22a6-ad8a-4aa5-8c39-adfe5709e2e3",
   "metadata": {},
   "outputs": [],
   "source": [
    "device = torch.device(\"cuda:0\" if torch.cuda.is_available() else \"cpu\")\n",
    "class FC2Layer(nn.Module):\n",
    "    def __init__(self, input_size, n_hidden, output_size, dropout_prob, activation):\n",
    "        super(FC2Layer, self).__init__()\n",
    "        self.input_size = input_size\n",
    "        self.dropout_prob = dropout_prob\n",
    "        if activation =='relu':\n",
    "            self.activation = nn.ReLU()  \n",
    "        elif activation == 'sigmoid':\n",
    "            self.activation = nn.Sigmoid()\n",
    "        else :\n",
    "            self.activation = nn.ReLU()\n",
    "            print(\"Activation function not implemented, using default ReLU\")\n",
    "        self.network = nn.Sequential(\n",
    "            nn.Linear(input_size, n_hidden), \n",
    "            self.activation,\n",
    "            nn.Dropout(p=dropout_prob),\n",
    "            nn.Linear(n_hidden, n_hidden), \n",
    "            self.activation,\n",
    "            nn.Dropout(p=dropout_prob),\n",
    "            nn.Linear(n_hidden, output_size), \n",
    "            nn.LogSoftmax(dim=1))\n",
    "\n",
    "    def forward(self, x):\n",
    "        x = x.view(-1, self.input_size)      \n",
    "        return self.network(x)\n",
    "class FC2Layer2(nn.Module):\n",
    "    def __init__(self, input_size, n_hidden, output_size, dropout_prob):\n",
    "        super(FC2Layer2, self).__init__()\n",
    "        self.input_size = input_size\n",
    "        self.dropout_prob = dropout_prob\n",
    "        self.network = nn.Sequential(\n",
    "            nn.Linear(input_size, n_hidden), \n",
    "            nn.Dropout(p=dropout_prob),\n",
    "            nn.Linear(n_hidden, n_hidden), \n",
    "            nn.Dropout(p=dropout_prob),\n",
    "            nn.Linear(n_hidden, output_size), \n",
    "            nn.LogSoftmax(dim=1))\n",
    "\n",
    "    def forward(self, x):\n",
    "        x = x.view(-1, self.input_size)      \n",
    "        return self.network(x)\n",
    "def train(epoch, model, optimizer, perm=torch.arange(0, 5).long(), verbose=False):\n",
    "        model.train()\n",
    "        epoch_loss = 0\n",
    "        losses = []\n",
    "        criterion = nn.CrossEntropyLoss()\n",
    "        for batch_idx, (data, target) in enumerate(train_loader):\n",
    "            data, target = data.to(device), target.to(device)\n",
    "            data = data.view(-1, 5)\n",
    "            data = data[:, perm]\n",
    "            optimizer.zero_grad()\n",
    "            output = model(data)\n",
    "            loss = criterion(output, target)\n",
    "            loss.backward()\n",
    "            optimizer.step()\n",
    "            if batch_idx % 100 == 0:\n",
    "                losses.append(loss.detach())\n",
    "                if verbose :\n",
    "                    print('Train Epoch: {} [{}/{} ({:.0f}%)]\\tLoss: {:.6f}'.format(\n",
    "                        epoch, batch_idx * len(data), len(train_loader.dataset),\n",
    "                        100. * batch_idx / len(train_loader), loss.item()))\n",
    "                    \n",
    "        return losses\n",
    "def test(model, perm=torch.arange(0, 5).long(), verbose=False):\n",
    "    model.eval()\n",
    "    accuracy_list = []\n",
    "    test_loss = 0\n",
    "    correct = 0\n",
    "    criterion = nn.CrossEntropyLoss(reduction='none')\n",
    "    with torch.no_grad():\n",
    "        for data, target in test_loader:\n",
    "            data, target = data.to(device), target.to(device)\n",
    "            data = data.view(-1, 5)\n",
    "            data = data[:, perm]\n",
    "            output = model(data)\n",
    "            loss = criterion(output, target)\n",
    "            test_loss += loss.sum().item()                                                      \n",
    "            pred = output.data.max(1, keepdim=True)[1] \n",
    "            correct += pred.eq(target.data.view_as(pred)).cpu().sum().item()\n",
    "        test_loss /= len(test_loader.dataset)\n",
    "        accuracy = 100. * correct / len(test_loader.dataset)\n",
    "        accuracy_list.append(accuracy) \n",
    "        if verbose :\n",
    "            print('\\nTest set: Average loss: {:.4f}, Accuracy: {}/{} ({:.0f}%)\\n'.format(\n",
    "                test_loss, correct, len(test_loader.dataset),\n",
    "                accuracy))\n",
    "    return test_loss       \n",
    "class CustomDataset(Dataset):\n",
    "    def __init__(self, X,y):\n",
    "        self.X_data = X\n",
    "        self.y_data = y  \n",
    "    def __len__(self):\n",
    "        return len(self.X_data)\n",
    "\n",
    "    def __getitem__(self, idx):\n",
    "        X = torch.Tensor(self.X_data.iloc[idx].values)\n",
    "        y = torch.LongTensor([self.y_data.iloc[idx]])\n",
    "        return X, y.squeeze() \n",
    "def get_n_params(model):\n",
    "    np=0\n",
    "    for p in list(model.parameters()):\n",
    "        np += p.nelement()\n",
    "    return np\n",
    "def calculate_auc(model, test_loader, multi_class='ovr'):\n",
    "    model.eval()\n",
    "    y_true=[]\n",
    "    y_scores=[]\n",
    "    with torch.no_grad():\n",
    "        for data, target in test_loader:\n",
    "            data, target = data.to(device), target.to(device)\n",
    "            output = model(data)\n",
    "            probs = torch.softmax(output, dim=1)\n",
    "            probs = probs.cpu().numpy()\n",
    "            y_true.extend(target.cpu().numpy())\n",
    "            y_scores.extend(probs)\n",
    "    return roc_auc_score(y_true, y_scores, multi_class='ovr')\n",
    "def plot_auc(model, test_loader):\n",
    "    model.eval()\n",
    "    y_true = []\n",
    "    y_scores = []\n",
    "    n_classes = 10\n",
    "    with torch.no_grad():\n",
    "        for data, target in test_loader:\n",
    "            data, target = data.to(device), target.to(device)\n",
    "            output = model(data)\n",
    "            probs = torch.softmax(output, dim=1)\n",
    "            probs = probs.cpu().numpy()\n",
    "            y_true.extend(label_binarize(target.cpu().numpy(), classes=np.arange(n_classes)))\n",
    "            y_scores.extend(probs)\n",
    "    y_true = np.array(y_true)\n",
    "    y_scores = np.array(y_scores)\n",
    "    fpr = dict()\n",
    "    tpr = dict()\n",
    "    for i in range(n_classes):\n",
    "        fpr[i], tpr[i], _ = roc_curve(y_true[:, i], y_scores[:, i])\n",
    "    fig=plt.figure(figsize=(8, 6))\n",
    "    for i in range(n_classes):\n",
    "        plt.plot(fpr[i], tpr[i], lw=2, label='ROC curve (class {})'.format(i))\n",
    "    plt.plot([0, 1], [0, 1], color='navy', lw=2, linestyle='--')\n",
    "    plt.xlim([0.0, 1.0])\n",
    "    plt.ylim([0.0, 1.05])\n",
    "    plt.xlabel('False Positive Rate')\n",
    "    plt.ylabel('True Positive Rate')\n",
    "    plt.title('Receiver Operating Characteristic (ROC) Curve for Multiclass Classification')\n",
    "    plt.legend(loc=\"lower right\")\n",
    "    plt.show()\n",
    "    fig.savefig('/Users/marieqi/Downloads/roc.png')\n",
    "train_dataset = CustomDataset(X_train,y_train)\n",
    "test_dataset = CustomDataset(X_test,y_test)\n",
    "train_loader = DataLoader(train_dataset, batch_size=20, shuffle=True)\n",
    "test_loader = DataLoader(test_dataset, batch_size=1000, shuffle=True)\n",
    "input_size=5\n",
    "output_size=10\n",
    "n_hidden=32\n",
    "model_fnn=FC2Layer(input_size, n_hidden, output_size, .5, 'relu')\n",
    "model_fnn=model_fnn.to(device)\n",
    "optimizer = optim.SGD(model_fnn.parameters(), lr=0.01, momentum=0.5)\n",
    "\n",
    "for epoch in range(0, 2):\n",
    "    train(epoch, model_fnn, optimizer, verbose=True)\n",
    "auc_score = calculate_auc(model_fnn, test_loader, multi_class='ovr')\n",
    "print(\"ROC AUC Score:\", auc_score)\n",
    "plot_auc(model_fnn, test_loader)\n",
    "\n",
    "test(model_fnn, verbose=True)\n",
    "auc_score = calculate_auc(model_fnn, test_loader, multi_class='ovr')\n"
   ]
  }
 ],
 "metadata": {
  "kernelspec": {
   "display_name": "Python 3 (ipykernel)",
   "language": "python",
   "name": "python3"
  },
  "language_info": {
   "codemirror_mode": {
    "name": "ipython",
    "version": 3
   },
   "file_extension": ".py",
   "mimetype": "text/x-python",
   "name": "python",
   "nbconvert_exporter": "python",
   "pygments_lexer": "ipython3",
   "version": "3.11.4"
  }
 },
 "nbformat": 4,
 "nbformat_minor": 5
}
